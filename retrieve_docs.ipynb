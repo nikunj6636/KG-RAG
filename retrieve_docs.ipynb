{
 "cells": [
  {
   "cell_type": "code",
   "execution_count": 1,
   "metadata": {},
   "outputs": [],
   "source": [
    "import os\n",
    "from rank_bm25 import BM25Okapi"
   ]
  },
  {
   "cell_type": "markdown",
   "metadata": {},
   "source": [
    "### Retrieval using BM25 Module"
   ]
  },
  {
   "cell_type": "code",
   "execution_count": 2,
   "metadata": {},
   "outputs": [],
   "source": [
    "# Step 1: Load text files into a list\n",
    "def load_texts_from_directory(directory_path):\n",
    "    documents = []\n",
    "    file_names = []\n",
    "    for file_name in os.listdir(directory_path):\n",
    "        if file_name.endswith('.txt'):\n",
    "            file_path = os.path.join(directory_path, file_name)\n",
    "            with open(file_path, 'r', encoding='utf-8') as file:\n",
    "                documents.append(file.read())\n",
    "                file_names.append(file_name)\n",
    "    return documents, file_names"
   ]
  },
  {
   "cell_type": "code",
   "execution_count": 3,
   "metadata": {},
   "outputs": [],
   "source": [
    "# Step 2: Preprocess documents (tokenization)\n",
    "def preprocess_documents(documents):\n",
    "    return [doc.split() for doc in documents]"
   ]
  },
  {
   "cell_type": "code",
   "execution_count": 4,
   "metadata": {},
   "outputs": [],
   "source": [
    "# Step 3: Compute BM25 similarity\n",
    "def compute_bm25_similarity(preprocessed_docs, corpus, file_names):\n",
    "    bm25 = BM25Okapi(preprocessed_docs)\n",
    "    scores_matrix = []\n",
    "    for query in preprocessed_docs:\n",
    "        doc_scores = bm25.get_scores(query)\n",
    "        scores_matrix.append(doc_scores)\n",
    "    return scores_matrix"
   ]
  },
  {
   "cell_type": "code",
   "execution_count": 5,
   "metadata": {},
   "outputs": [],
   "source": [
    "# Step 4: Extracts the most similar documents\n",
    "def similarity(similarity_matrix, file_names, i):\n",
    "    pairs = []\n",
    "    for j in range(len(similarity_matrix[i])):\n",
    "        pairs.append((file_names[j], similarity_matrix[i][j]))\n",
    "    l = sorted(pairs, key=lambda x: x[1])\n",
    "    l1 = l[-5:]\n",
    "    ret = []\n",
    "    for j in range(len(l1)):\n",
    "        ret.append(l1[j][0])\n",
    "    return ret"
   ]
  },
  {
   "cell_type": "code",
   "execution_count": 6,
   "metadata": {},
   "outputs": [
    {
     "name": "stdout",
     "output_type": "stream",
     "text": [
      "For Document 1706.03762.txt most similar docs are ['1703.03130.txt', '1701.06538.txt', '1609.08144.txt', '1705.03122v2.txt', '1706.03762.txt']\n",
      "For Document 1607.06450.txt most similar docs are ['1702.00887.txt', '1701.06538.txt', '1705.03122v2.txt', 'srivastava14a.txt', '1607.06450.txt']\n",
      "For Document 1601.06733.txt most similar docs are ['1606.04199.txt', '1702.00887.txt', 'D16-1244.txt', '1703.03130.txt', '1601.06733.txt']\n",
      "For Document 1308.0850.txt most similar docs are ['1602.02410.txt', '1607.06450.txt', '1609.08144.txt', 'srivastava14a.txt', '1308.0850.txt']\n",
      "For Document 1511.08228.txt most similar docs are ['1609.08144.txt', 'srivastava14a.txt', '1701.06538.txt', '1602.02410.txt', '1511.08228.txt']\n",
      "For Document 1508.07909.txt most similar docs are ['1705.03122v2.txt', '1703.03906.txt', '1606.04199.txt', '1609.08144.txt', '1508.07909.txt']\n",
      "For Document 1701.06538.txt most similar docs are ['1706.03762.txt', '1602.02410.txt', '1705.03122v2.txt', '1609.08144.txt', '1701.06538.txt']\n",
      "For Document 1703.10722.txt most similar docs are ['1705.03122v2.txt', '1602.02410.txt', '1706.03762.txt', '1701.06538.txt', '1703.10722.txt']\n",
      "For Document 1608.05859.txt most similar docs are ['1602.02410.txt', '1701.06538.txt', '1406.1078.txt', '1703.03130.txt', '1608.05859.txt']\n",
      "For Document 1512.03385.txt most similar docs are ['1609.08144.txt', '1610.02357.txt', 'srivastava14a.txt', '1512.00567.txt', '1512.03385.txt']\n",
      "For Document 1703.03906.txt most similar docs are ['1606.04199.txt', '1705.03122v2.txt', '1701.06538.txt', '1609.08144.txt', '1703.03906.txt']\n",
      "For Document 1412.3555.txt most similar docs are ['1705.03122v2.txt', '1308.0850.txt', '1409.0473.txt', '1406.1078.txt', '1412.3555.txt']\n",
      "For Document 1508.04025.txt most similar docs are ['1705.03122v2.txt', '1606.04199.txt', '1609.08144.txt', '1511.06114.txt', '1508.04025.txt']\n",
      "For Document 1703.03130.txt most similar docs are ['1601.06733.txt', '1609.08144.txt', '1701.06538.txt', '1702.00887.txt', '1703.03130.txt']\n",
      "For Document 1412.6980.txt most similar docs are ['1308.0850.txt', '1702.00887.txt', '1607.06450.txt', 'srivastava14a.txt', '1412.6980.txt']\n",
      "For Document 1705.03122v2.txt most similar docs are ['1606.04199.txt', '1609.08144.txt', '1701.06538.txt', '1706.03762.txt', '1705.03122v2.txt']\n",
      "For Document J93-2004.txt most similar docs are ['1610.10099v2.txt', 'N16-1118.txt', '1511.06114.txt', 'srivastava14a.txt', '1705.04304.txt']\n",
      "For Document 1409.0473.txt most similar docs are ['1702.00887.txt', '1606.04199.txt', '1609.08144.txt', '1406.1078.txt', '1409.0473.txt']\n",
      "For Document P13-1045.txt most similar docs are ['srivastava14a.txt', 'N16-1118.txt', '1702.00887.txt', 'P06-1054.txt', 'P13-1045.txt']\n",
      "For Document 1609.08144.txt most similar docs are ['1606.04199.txt', '1705.03122v2.txt', '1701.06538.txt', '1409.0473.txt', '1609.08144.txt']\n",
      "For Document 1406.1078.txt most similar docs are ['1508.04025.txt', '1606.04199.txt', '1609.08144.txt', '1409.0473.txt', '1406.1078.txt']\n",
      "For Document D16-1244.txt most similar docs are ['P13-1045.txt', '1702.00887.txt', '1703.03130.txt', '1601.06733.txt', 'D16-1244.txt']\n",
      "For Document 1602.02410.txt most similar docs are ['1511.08228.txt', '1705.03122v2.txt', '1609.08144.txt', '1701.06538.txt', '1602.02410.txt']\n",
      "For Document 1606.04199.txt most similar docs are ['1703.03906.txt', '1701.06538.txt', '1705.03122v2.txt', '1609.08144.txt', '1606.04199.txt']\n",
      "For Document P06-1054.txt most similar docs are ['D09-1082.txt', '1702.00887.txt', '1609.08144.txt', 'P13-1045.txt', 'P06-1054.txt']\n",
      "For Document 1610.02357.txt most similar docs are ['srivastava14a.txt', '1706.03762.txt', '1512.03385.txt', '1512.00567.txt', '1610.02357.txt']\n",
      "For Document D09-1082.txt most similar docs are ['1609.08144.txt', 'N16-1118.txt', 'P13-1045.txt', '1703.03130.txt', 'D09-1082.txt']\n",
      "For Document 1702.00887.txt most similar docs are ['1701.06538.txt', '1511.08228.txt', '1703.03130.txt', '1705.03122v2.txt', '1702.00887.txt']\n",
      "For Document 1512.00567.txt most similar docs are ['1609.08144.txt', '1512.03385.txt', 'srivastava14a.txt', '1610.02357.txt', '1512.00567.txt']\n",
      "For Document 1610.10099v2.txt most similar docs are ['1609.08144.txt', '1606.04199.txt', '1706.03762.txt', '1705.03122v2.txt', '1610.10099v2.txt']\n",
      "For Document N16-1118.txt most similar docs are ['1602.02410.txt', 'P13-1045.txt', '1601.06733.txt', '1703.03130.txt', 'N16-1118.txt']\n",
      "For Document 1511.06114.txt most similar docs are ['1602.02410.txt', '1511.08228.txt', '1705.03122v2.txt', '1508.04025.txt', '1511.06114.txt']\n",
      "For Document srivastava14a.txt most similar docs are ['1512.00567.txt', '1607.06450.txt', '1701.06538.txt', '1308.0850.txt', 'srivastava14a.txt']\n",
      "For Document 1705.04304.txt most similar docs are ['1706.03762.txt', '1601.06733.txt', '1609.08144.txt', '1705.03122v2.txt', '1705.04304.txt']\n"
     ]
    }
   ],
   "source": [
    "directory_path = \"./txt_papers\"\n",
    "\n",
    "# Load and preprocess the documents\n",
    "documents, file_names = load_texts_from_directory(directory_path)\n",
    "preprocessed_docs = preprocess_documents(documents)\n",
    "\n",
    "# Compute and display BM25 similarity\n",
    "similarity_matrix = compute_bm25_similarity(preprocessed_docs, documents, file_names)\n",
    "# preprocessed_docs, documents, file_names\n",
    "for i in range(len(file_names)):\n",
    "    similar_docs = similarity(similarity_matrix, file_names, i)\n",
    "    print(f\"For Document {file_names[i]} most similar docs are\", similar_docs)"
   ]
  },
  {
   "cell_type": "markdown",
   "metadata": {},
   "source": [
    "### Retrieval using BERT"
   ]
  },
  {
   "cell_type": "code",
   "execution_count": 7,
   "metadata": {},
   "outputs": [
    {
     "name": "stderr",
     "output_type": "stream",
     "text": [
      "/home/nikunj/Downloads/IRE/RetrieverRockstars/venv/lib/python3.10/site-packages/tqdm/auto.py:21: TqdmWarning: IProgress not found. Please update jupyter and ipywidgets. See https://ipywidgets.readthedocs.io/en/stable/user_install.html\n",
      "  from .autonotebook import tqdm as notebook_tqdm\n"
     ]
    }
   ],
   "source": [
    "import torch\n",
    "from transformers import AutoTokenizer, AutoModel\n",
    "from sklearn.metrics.pairwise import cosine_similarity\n",
    "import numpy as np\n",
    "\n",
    "# Step 2: Encode documents using BERT\n",
    "def encode_documents(documents, model, tokenizer, device):\n",
    "    embeddings = []\n",
    "    for doc in documents:\n",
    "        inputs = tokenizer(doc, padding=True, truncation=True, return_tensors=\"pt\", max_length=512)\n",
    "        inputs = {key: val.to(device) for key, val in inputs.items()}\n",
    "        with torch.no_grad():\n",
    "            outputs = model(**inputs)\n",
    "            embeddings.append(outputs.last_hidden_state[:, 0, :].squeeze().cpu().numpy())\n",
    "    return np.array(embeddings)\n",
    "\n",
    "# Step 3: Compute similarity matrix\n",
    "def compute_similarity_matrix(embeddings, file_names):\n",
    "    similarity_matrix = cosine_similarity(embeddings)\n",
    "    return similarity_matrix\n",
    "\n",
    "\n",
    "# Step 4: Extracts the most similar documents\n",
    "def similarity(similarity_matrix, file_names, i):\n",
    "    pairs = []\n",
    "    for j in range(len(similarity_matrix[i])):\n",
    "        pairs.append((file_names[j], similarity_matrix[i][j]))\n",
    "    l = sorted(pairs, key=lambda x: x[1])\n",
    "    l1 = l[-5:]\n",
    "    ret = []\n",
    "    for j in range(len(l1)):\n",
    "        ret.append(l1[j][0])\n",
    "    return ret"
   ]
  },
  {
   "cell_type": "code",
   "execution_count": 8,
   "metadata": {},
   "outputs": [
    {
     "name": "stderr",
     "output_type": "stream",
     "text": [
      "/home/nikunj/Downloads/IRE/RetrieverRockstars/venv/lib/python3.10/site-packages/torch/cuda/__init__.py:129: UserWarning: CUDA initialization: CUDA unknown error - this may be due to an incorrectly set up environment, e.g. changing env variable CUDA_VISIBLE_DEVICES after program start. Setting the available devices to be zero. (Triggered internally at ../c10/cuda/CUDAFunctions.cpp:108.)\n",
      "  return torch._C._cuda_getDeviceCount() > 0\n"
     ]
    },
    {
     "data": {
      "text/plain": [
       "device(type='cpu')"
      ]
     },
     "execution_count": 8,
     "metadata": {},
     "output_type": "execute_result"
    }
   ],
   "source": [
    "import torch\n",
    "device = torch.device(\"cuda\" if torch.cuda.is_available() else \"cpu\")\n",
    "device"
   ]
  },
  {
   "cell_type": "code",
   "execution_count": 9,
   "metadata": {},
   "outputs": [
    {
     "name": "stdout",
     "output_type": "stream",
     "text": [
      "For Document 1706.03762.txt most similar docs are ['1701.06538.txt', '1512.00567.txt', '1703.10722.txt', '1606.04199.txt', '1706.03762.txt']\n",
      "For Document 1607.06450.txt most similar docs are ['1409.0473.txt', '1412.3555.txt', '1705.03122v2.txt', 'srivastava14a.txt', '1607.06450.txt']\n",
      "For Document 1601.06733.txt most similar docs are ['1409.0473.txt', '1508.04025.txt', '1702.00887.txt', '1703.03906.txt', '1601.06733.txt']\n",
      "For Document 1308.0850.txt most similar docs are ['1608.05859.txt', '1409.0473.txt', '1705.03122v2.txt', 'srivastava14a.txt', '1308.0850.txt']\n",
      "For Document 1511.08228.txt most similar docs are ['1406.1078.txt', 'D16-1244.txt', '1701.06538.txt', 'srivastava14a.txt', '1511.08228.txt']\n",
      "For Document 1508.07909.txt most similar docs are ['1701.06538.txt', 'D16-1244.txt', '1705.03122v2.txt', '1409.0473.txt', '1508.07909.txt']\n",
      "For Document 1701.06538.txt most similar docs are ['D16-1244.txt', '1606.04199.txt', 'N16-1118.txt', '1511.08228.txt', '1701.06538.txt']\n",
      "For Document 1703.10722.txt most similar docs are ['1508.07909.txt', '1511.08228.txt', '1701.06538.txt', '1606.04199.txt', '1703.10722.txt']\n",
      "For Document 1608.05859.txt most similar docs are ['1610.10099v2.txt', '1508.07909.txt', '1409.0473.txt', 'D09-1082.txt', '1608.05859.txt']\n",
      "For Document 1512.03385.txt most similar docs are ['1703.03906.txt', '1512.00567.txt', '1606.04199.txt', 'srivastava14a.txt', '1512.03385.txt']\n",
      "For Document 1703.03906.txt most similar docs are ['1601.06733.txt', '1701.06538.txt', '1606.04199.txt', '1702.00887.txt', '1703.03906.txt']\n",
      "For Document 1412.3555.txt most similar docs are ['1606.04199.txt', '1610.02357.txt', '1601.06733.txt', '1607.06450.txt', '1412.3555.txt']\n",
      "For Document 1508.04025.txt most similar docs are ['1702.00887.txt', '1703.03906.txt', '1601.06733.txt', 'D09-1082.txt', '1508.04025.txt']\n",
      "For Document 1703.03130.txt most similar docs are ['1601.06733.txt', '1702.00887.txt', '1703.03906.txt', 'D09-1082.txt', '1703.03130.txt']\n",
      "For Document 1412.6980.txt most similar docs are ['1705.03122v2.txt', '1608.05859.txt', 'srivastava14a.txt', '1607.06450.txt', '1412.6980.txt']\n",
      "For Document 1705.03122v2.txt most similar docs are ['1409.0473.txt', '1703.03906.txt', '1607.06450.txt', '1508.07909.txt', '1705.03122v2.txt']\n",
      "For Document J93-2004.txt most similar docs are ['1706.03762.txt', '1511.08228.txt', '1406.1078.txt', '1703.10722.txt', 'J93-2004.txt']\n",
      "For Document 1409.0473.txt most similar docs are ['1705.03122v2.txt', '1608.05859.txt', '1508.07909.txt', '1610.10099v2.txt', '1409.0473.txt']\n",
      "For Document P13-1045.txt most similar docs are ['1409.0473.txt', '1705.04304.txt', '1610.10099v2.txt', 'P06-1054.txt', 'P13-1045.txt']\n",
      "For Document 1609.08144.txt most similar docs are ['1703.03906.txt', 'N16-1118.txt', '1606.04199.txt', '1512.00567.txt', '1609.08144.txt']\n",
      "For Document 1406.1078.txt most similar docs are ['N16-1118.txt', '1701.06538.txt', 'D16-1244.txt', '1511.08228.txt', '1406.1078.txt']\n",
      "For Document D16-1244.txt most similar docs are ['1511.08228.txt', '1508.07909.txt', '1701.06538.txt', 'N16-1118.txt', 'D16-1244.txt']\n",
      "For Document 1602.02410.txt most similar docs are ['1703.03130.txt', 'P06-1054.txt', '1511.06114.txt', '1703.03906.txt', '1602.02410.txt']\n",
      "For Document 1606.04199.txt most similar docs are ['1512.00567.txt', '1703.03906.txt', 'N16-1118.txt', '1701.06538.txt', '1606.04199.txt']\n",
      "For Document P06-1054.txt most similar docs are ['1703.03906.txt', '1602.02410.txt', '1705.04304.txt', 'P13-1045.txt', 'P06-1054.txt']\n",
      "For Document 1610.02357.txt most similar docs are ['1409.0473.txt', '1412.3555.txt', '1705.03122v2.txt', '1610.10099v2.txt', '1610.02357.txt']\n",
      "For Document D09-1082.txt most similar docs are ['1606.04199.txt', '1508.04025.txt', '1608.05859.txt', '1703.03130.txt', 'D09-1082.txt']\n",
      "For Document 1702.00887.txt most similar docs are ['1606.04199.txt', '1512.00567.txt', '1601.06733.txt', '1703.03906.txt', '1702.00887.txt']\n",
      "For Document 1512.00567.txt most similar docs are ['srivastava14a.txt', '1606.04199.txt', '1511.08228.txt', '1701.06538.txt', '1512.00567.txt']\n",
      "For Document 1610.10099v2.txt most similar docs are ['1610.02357.txt', '1608.05859.txt', 'P13-1045.txt', '1409.0473.txt', '1610.10099v2.txt']\n",
      "For Document N16-1118.txt most similar docs are ['1511.08228.txt', '1606.04199.txt', '1701.06538.txt', 'D16-1244.txt', 'N16-1118.txt']\n",
      "For Document 1511.06114.txt most similar docs are ['1703.03130.txt', '1702.00887.txt', '1602.02410.txt', '1703.03906.txt', '1511.06114.txt']\n",
      "For Document srivastava14a.txt most similar docs are ['1512.00567.txt', '1607.06450.txt', '1701.06538.txt', '1511.08228.txt', 'srivastava14a.txt']\n",
      "For Document 1705.04304.txt most similar docs are ['1610.10099v2.txt', '1705.03122v2.txt', 'P13-1045.txt', 'P06-1054.txt', '1705.04304.txt']\n"
     ]
    }
   ],
   "source": [
    "directory_path = \"./txt_papers\"\n",
    "\n",
    "model_name = \"bert-base-uncased\"\n",
    "tokenizer = AutoTokenizer.from_pretrained(model_name)\n",
    "model = AutoModel.from_pretrained(model_name)\n",
    "device = torch.device(\"cuda\" if torch.cuda.is_available() else \"cpu\")\n",
    "model = model.to(device)\n",
    "\n",
    "embeddings = encode_documents(documents, model, tokenizer, device)\n",
    "similarity_matrix = compute_similarity_matrix(embeddings, file_names)\n",
    "for i in range(len(file_names)):\n",
    "    similar_docs = similarity(similarity_matrix, file_names, i)\n",
    "    print(f\"For Document {file_names[i]} most similar docs are\", similar_docs)"
   ]
  }
 ],
 "metadata": {
  "kernelspec": {
   "display_name": "venv",
   "language": "python",
   "name": "python3"
  },
  "language_info": {
   "codemirror_mode": {
    "name": "ipython",
    "version": 3
   },
   "file_extension": ".py",
   "mimetype": "text/x-python",
   "name": "python",
   "nbconvert_exporter": "python",
   "pygments_lexer": "ipython3",
   "version": "3.10.12"
  }
 },
 "nbformat": 4,
 "nbformat_minor": 2
}
